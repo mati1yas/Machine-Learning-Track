{
  "nbformat": 4,
  "nbformat_minor": 0,
  "metadata": {
    "colab": {
      "provenance": [],
      "authorship_tag": "ABX9TyP2OzwtDNfitmRBA+7aX2+3",
      "include_colab_link": true
    },
    "kernelspec": {
      "name": "python3",
      "display_name": "Python 3"
    },
    "language_info": {
      "name": "python"
    }
  },
  "cells": [
    {
      "cell_type": "markdown",
      "metadata": {
        "id": "view-in-github",
        "colab_type": "text"
      },
      "source": [
        "<a href=\"https://colab.research.google.com/github/mati1yas/Machine-Learning-Track/blob/main/checkPoints_Answers.ipynb\" target=\"_parent\"><img src=\"https://colab.research.google.com/assets/colab-badge.svg\" alt=\"Open In Colab\"/></a>"
      ]
    },
    {
      "cell_type": "code",
      "execution_count": null,
      "metadata": {
        "id": "6iBPmWRFcXYg"
      },
      "outputs": [],
      "source": []
    },
    {
      "cell_type": "markdown",
      "metadata": {
        "id": "70d68298"
      },
      "source": [
        "# Checkpoints"
      ]
    },
    {
      "cell_type": "markdown",
      "metadata": {
        "id": "67d0260a"
      },
      "source": [
        "**CP1**:\n",
        "Given the list $[A, B, C]$, use the `itertools` module to generate all possible\n",
        "combinations of 2 elements.\n",
        "\n",
        "**Expected Output**:\n",
        "$$\n",
        " (A, B) \\\\\n",
        " (A, C) \\\\\n",
        " (B, C)\n",
        "$$"
      ]
    },
    {
      "cell_type": "code",
      "execution_count": null,
      "metadata": {
        "id": "9dd63d67",
        "colab": {
          "base_uri": "https://localhost:8080/"
        },
        "outputId": "d6276e41-95e9-49ee-c875-91da15ee5490"
      },
      "outputs": [
        {
          "output_type": "execute_result",
          "data": {
            "text/plain": [
              "[('A', 'B'), ('A', 'C'), ('B', 'C')]"
            ]
          },
          "metadata": {},
          "execution_count": 36
        }
      ],
      "source": [
        "import itertools as it\n",
        "import numpy as np\n",
        "\n",
        "arr=np.array(['A','B','C'])\n",
        "combs= list(it.combinations(arr,2))\n",
        "combs"
      ]
    },
    {
      "cell_type": "markdown",
      "metadata": {
        "id": "31c15dce"
      },
      "source": [
        "**CP2**:\n",
        "Use the `itertools` module to create a sequence that cycles through\n",
        "['Python', 'is', 'fun'] infinitely. Print the first 10 elements of the sequence.\n",
        "\n",
        "**Expected Output**:\n",
        "$$\n",
        "Python \\\\\n",
        "is\\\\\n",
        "fun\\\\\n",
        "Python\\\\\n",
        "is\\\\\n",
        "fun\\\\\n",
        "Python\\\\\n",
        "is\\\\\n",
        "fun\\\\\n",
        "Python\n",
        "$$"
      ]
    },
    {
      "cell_type": "code",
      "execution_count": null,
      "metadata": {
        "id": "c75f246c",
        "colab": {
          "base_uri": "https://localhost:8080/"
        },
        "outputId": "5424b3df-a620-4a69-f7da-72ebf50e2ef6"
      },
      "outputs": [
        {
          "output_type": "stream",
          "name": "stdout",
          "text": [
            "Python\n",
            "is\n",
            "fun\n",
            "Python\n",
            "is\n",
            "fun\n",
            "Python\n",
            "is\n",
            "fun\n",
            "Python\n"
          ]
        }
      ],
      "source": [
        "import itertools as it\n",
        "\n",
        "datacycle=it.cycle( ['Python', 'is', 'fun'] )     # create infinite cycle of the given list of data\n",
        "\n",
        "for _ in range(10):      # do the operation ten times\n",
        "  word= next(datacycle)   # we are using next to get next element\n",
        "\n",
        "  print(word)\n",
        "\n",
        "\n",
        "\n"
      ]
    },
    {
      "cell_type": "markdown",
      "metadata": {
        "id": "cbef0f63"
      },
      "source": [
        "**CP3**:\n",
        "Use the `glob` module to list all python (.py) files in your current working directory.\n",
        "\n",
        "\n"
      ]
    },
    {
      "cell_type": "code",
      "execution_count": null,
      "metadata": {
        "id": "3e62d5b4",
        "colab": {
          "base_uri": "https://localhost:8080/"
        },
        "outputId": "09a520f4-4996-4ba3-f35f-48e0fced9a3a"
      },
      "outputs": [
        {
          "output_type": "stream",
          "name": "stdout",
          "text": [
            "['python1.py', 'python2.py', 'python4.py', 'python3.py']\n"
          ]
        }
      ],
      "source": [
        "import glob as gb\n",
        "\n",
        "python_files = gb.glob('*.py')  # this will return me list of all the files with .py file extension\n",
        "print(python_files)"
      ]
    },
    {
      "cell_type": "markdown",
      "metadata": {
        "id": "d266d698"
      },
      "source": [
        "**CP4**: You are given the following HTML content below. Write a function that uses BeautifulSoup to parse the HTML and extract the text inside the   '$<p>$'   tag.\n"
      ]
    },
    {
      "cell_type": "code",
      "execution_count": null,
      "metadata": {
        "id": "27f941c8"
      },
      "outputs": [],
      "source": [
        "#<html><body><div class='main'><h1>Welcome to AI</h1><p>AI is transforming the world</p></div></body></html>"
      ]
    },
    {
      "cell_type": "code",
      "execution_count": 1,
      "metadata": {
        "id": "6fb1cdcf",
        "colab": {
          "base_uri": "https://localhost:8080/",
          "height": 35
        },
        "outputId": "58d7bfed-7cc7-44ac-8fdb-4fcfbdf00d4c"
      },
      "outputs": [
        {
          "output_type": "execute_result",
          "data": {
            "text/plain": [
              "'AI is transforming the world'"
            ],
            "application/vnd.google.colaboratory.intrinsic+json": {
              "type": "string"
            }
          },
          "metadata": {},
          "execution_count": 1
        }
      ],
      "source": [
        "from bs4 import BeautifulSoup           # import beautifulsoup library\n",
        "html=\"<html><body><div class='main'><h1>Welcome to AI</h1><p>AI is transforming the world</p></div></body></html>\"\n",
        "\n",
        "def extractText(html):\n",
        "  soup= BeautifulSoup(html,'html.parser')  # create soup object\n",
        "\n",
        "  pTag =  soup.find('p')    # since we have only one p tag we can use find\n",
        "  text =  pTag.text       # extract text we can also use get_text()\n",
        "  return text\n",
        "\n",
        "text= extractText(html)\n",
        "\n",
        "text"
      ]
    },
    {
      "cell_type": "markdown",
      "metadata": {
        "id": "a1fce3ef"
      },
      "source": [
        "**CP5**: Write a function that uses the re module to replace all occurrences of the word \"AI\" with \"Artificial Intelligence\" in a given text."
      ]
    },
    {
      "cell_type": "code",
      "execution_count": 7,
      "metadata": {
        "id": "07178a2d",
        "colab": {
          "base_uri": "https://localhost:8080/",
          "height": 53
        },
        "outputId": "a2e44089-92d2-464f-d6dd-025d9f5ff79f"
      },
      "outputs": [
        {
          "output_type": "stream",
          "name": "stdout",
          "text": [
            "<html><body><div class='main'><h1>Welcome to Aritificial Intelligence</h1><p>Aritificial Intelligence is transforming the world</p></div></body></html>\n"
          ]
        },
        {
          "output_type": "execute_result",
          "data": {
            "text/plain": [
              "\"<html><body><div class='main'><h1>Welcome to Artificial Intelligence</h1><p>Artificial Intelligence is transforming the world</p></div></body></html>\""
            ],
            "application/vnd.google.colaboratory.intrinsic+json": {
              "type": "string"
            }
          },
          "metadata": {},
          "execution_count": 7
        }
      ],
      "source": [
        "# Occurrence Replacement we can use two approaches\n",
        "\n",
        "import re                   # import re module\n",
        "html=\"<html><body><div class='main'><h1>Welcome to AI</h1><p>AI is transforming the world</p></div></body></html>\"\n",
        "\n",
        "def substitute(html):\n",
        "  html1=re.sub(\"AI\",\"Aritificial Intelligence\",html)          # use sub method of re module\n",
        "  return html1\n",
        "print(substitute(html))\n",
        "\n",
        "# we can also use string replacement\n",
        "\n",
        "def replace(html):\n",
        "  html2 = html.replace(\"AI\",\"Artificial Intelligence\")      # using string replacement\n",
        "  return html2\n",
        "\n",
        "html2=replace(html)\n",
        "\n",
        "html2\n",
        "\n",
        "#  result of both above operation is the similar\n",
        "\n",
        "\n",
        "\n",
        "\n"
      ]
    },
    {
      "cell_type": "markdown",
      "metadata": {
        "id": "4e471de6"
      },
      "source": [
        "**CP6**: Create a numpy array of 10 zeros."
      ]
    },
    {
      "cell_type": "code",
      "execution_count": null,
      "metadata": {
        "id": "7f6e9acb",
        "colab": {
          "base_uri": "https://localhost:8080/"
        },
        "outputId": "6e78ce91-6bca-43b3-af45-5923134a71f8"
      },
      "outputs": [
        {
          "output_type": "stream",
          "name": "stdout",
          "text": [
            "[0. 0. 0. 0. 0. 0. 0. 0. 0. 0.]\n"
          ]
        }
      ],
      "source": [
        "import numpy as np    # import numpy library\n",
        "\n",
        "arr= np.zeros(10)     # create array of size 10 with all elements as zero\n",
        "print(arr)"
      ]
    },
    {
      "cell_type": "markdown",
      "metadata": {
        "id": "5f52a63e"
      },
      "source": [
        "**CP7** Create a numpy array of the integers from 10 to 49."
      ]
    },
    {
      "cell_type": "code",
      "execution_count": null,
      "metadata": {
        "id": "ddb01e9a",
        "colab": {
          "base_uri": "https://localhost:8080/"
        },
        "outputId": "557f02fe-24c1-45d2-babb-37762f483baa"
      },
      "outputs": [
        {
          "output_type": "stream",
          "name": "stdout",
          "text": [
            "[10 11 12 13 14 15 16 17 18 19 20 21 22 23 24 25 26 27 28 29 30 31 32 33\n",
            " 34 35 36 37 38 39 40 41 42 43 44 45 46 47 48 49]\n"
          ]
        }
      ],
      "source": [
        "arr=np.arange(10,50)     # create array of range between 10 - 49\n",
        "print(arr)"
      ]
    },
    {
      "cell_type": "markdown",
      "metadata": {
        "id": "79e4d614"
      },
      "source": [
        "**CP8**: Create a 3x3 numpy matrix, filled with values ranging from 0 to 8."
      ]
    },
    {
      "cell_type": "code",
      "execution_count": null,
      "metadata": {
        "id": "d3eddea4",
        "colab": {
          "base_uri": "https://localhost:8080/"
        },
        "outputId": "74c866ca-605f-49ca-b950-f62a2ed7d09c"
      },
      "outputs": [
        {
          "output_type": "stream",
          "name": "stdout",
          "text": [
            "[0 1 2 3 4 5 6 7 8]\n",
            "[[0 1 2]\n",
            " [3 4 5]\n",
            " [6 7 8]]\n"
          ]
        }
      ],
      "source": [
        "arr= np.arange(9)      # create array of size 9\n",
        "print(arr)\n",
        "tripled_array= arr.reshape(3,3)  # reshape the array to 3*3\n",
        "print(tripled_array)"
      ]
    },
    {
      "cell_type": "markdown",
      "metadata": {
        "id": "1b09270f"
      },
      "source": [
        "**CP9**: Explain why machine learning models require large amounts of data? What does it mean for an amount of data to be **large**?"
      ]
    },
    {
      "cell_type": "code",
      "execution_count": null,
      "metadata": {
        "id": "a57e9726"
      },
      "outputs": [],
      "source": []
    },
    {
      "cell_type": "markdown",
      "source": [
        "some of the reasons why Machine Learning Model need large dataset :\n",
        "  1. **For Better Learning or Model Generalisation**: when models have large example to learn from , they become better at understanding patterns and variation in the data\n",
        "  2. **to Avoid overfitting**: sometimes models can become too focused on a data they are trained on which leads to poor performance when face new data . having large dataset will makes the machine learning models learn new pattern and variation than memorize a pattern.\n",
        "  3. **Nature of Problem**:  some problems need large dataset inorder for them to point out pattern or variation in the data. **Language processing** and **Image Processing** can be mentioned as an example .\n",
        "\n",
        "what does it mean for an amount of data to be **large**?\n",
        "\n",
        "I could not get exact definition that qualiefies a data as large or small .  we can atleast say it is data that is larger in size than a data size that is usually used in Machine learning . the main question to answer here is, do we have a data that is diverse enough and representative to train the model so that it can make accurate predictions and decisions."
      ],
      "metadata": {
        "id": "CROKFKBLHhXi"
      }
    },
    {
      "cell_type": "markdown",
      "metadata": {
        "id": "1a357bde"
      },
      "source": [
        "**CP10**: Explain 2 ways AI can be used in an adverserial way, and what can be done to prevent it."
      ]
    },
    {
      "cell_type": "code",
      "execution_count": null,
      "metadata": {
        "id": "a9db70af"
      },
      "outputs": [],
      "source": []
    },
    {
      "cell_type": "markdown",
      "source": [
        "while reading i came across many adversial ways of using AI . some of them were more interesting than the others . I found the below as interesting :\n",
        "1. **Deepfake and synthetic Media**: is technique of using artificial intelligence to create highly realistic fake images, videos, or audio that appear to be authentic.\n",
        "\n",
        "2. **Fooling captcha system**: as we all know the main intention of captcha was to identify between robot and humans .  however methods to bypass captcha using computer vision algorithms .\n",
        "\n",
        "some of Prevention methods could be as follows .\n",
        "\n",
        "1. **Regulations and Standards**: Establishing regulations and standards for AI systems can play a significant role in preventing adversarial use.\n",
        "2. **Data Security and Privacy**: Protecting data from manipulation and unauthorized access is also other option we have for adversial use of AI prevention ."
      ],
      "metadata": {
        "id": "P-Qy67q3UPQA"
      }
    },
    {
      "cell_type": "code",
      "source": [],
      "metadata": {
        "id": "wwPlhVe6Uu5w"
      },
      "execution_count": null,
      "outputs": []
    }
  ]
}